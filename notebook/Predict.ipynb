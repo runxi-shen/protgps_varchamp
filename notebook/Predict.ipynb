{
 "cells": [
  {
   "cell_type": "code",
   "execution_count": null,
   "metadata": {},
   "outputs": [],
   "source": [
    "PROTGPS_PARENT_DIR = \"/home/shenrunx/igvf/varchamp/protgps_varchamp\" # point to the protgps local repo\n",
    "\n",
    "# !pip install fsspec==2023.5.0\n",
    "# pip install transformers"
   ]
  },
  {
   "cell_type": "code",
   "execution_count": null,
   "metadata": {},
   "outputs": [],
   "source": [
    "## Avoid some weird errors\n",
    "# File ~/igvf/varchamp/protgps_varchamp/protgps/lightning/base.py:2\n",
    "#       1 import torch\n",
    "# ----> 2 import pytorch_lightning as pl\n",
    "#       3 import torch.nn.functional as F\n",
    "#       4 import numpy as np\n",
    "\n",
    "# File ~/software/anaconda3/envs/protgps/lib/python3.8/site-packages/pytorch_lightning/__init__.py:30\n",
    "#      27     _logger.addHandler(logging.StreamHandler())\n",
    "#      28     _logger.propagate = False\n",
    "# ---> 30 from pytorch_lightning.callbacks import Callback  # noqa: E402\n",
    "#      31 from pytorch_lightning.core import LightningDataModule, LightningModule  # noqa: E402\n",
    "#      32 from pytorch_lightning.trainer import Trainer  # noqa: E402\n",
    "\n",
    "# File ~/software/anaconda3/envs/protgps/lib/python3.8/site-packages/pytorch_lightning/callbacks/__init__.py:22\n",
    "#      20 from pytorch_lightning.callbacks.lambda_function import LambdaCallback\n",
    "#      21 from pytorch_lightning.callbacks.lr_monitor import LearningRateMonitor\n",
    "# ---> 22 from pytorch_lightning.callbacks.model_checkpoint import ModelCheckpoint\n",
    "#      23 from pytorch_lightning.callbacks.model_summary import ModelSummary\n",
    "#      24 from pytorch_lightning.callbacks.prediction_writer import BasePredictionWriter\n",
    "\n",
    "# File ~/software/anaconda3/envs/protgps/lib/python3.8/site-packages/pytorch_lightning/callbacks/model_checkpoint.py:37\n",
    "#      35 import pytorch_lightning as pl\n",
    "#      36 from pytorch_lightning.callbacks.base import Callback\n",
    "# ---> 37 from pytorch_lightning.utilities.cloud_io import get_filesystem\n",
    "#      38 from pytorch_lightning.utilities.exceptions import MisconfigurationException\n",
    "#      39 from pytorch_lightning.utilities.logger import _name, _version\n",
    "\n",
    "# File ~/software/anaconda3/envs/protgps/lib/python3.8/site-packages/pytorch_lightning/utilities/cloud_io.py:20\n",
    "#      17 from pathlib import Path\n",
    "#      18 from typing import Any, Callable, Dict, IO, Optional, Union\n",
    "# ---> 20 import fsspec\n",
    "#      21 import torch\n",
    "#      22 from fsspec.core import url_to_fs\n",
    "\n",
    "# File ~/software/anaconda3/envs/protgps/lib/python3.8/site-packages/fsspec/__init__.py:3\n",
    "#       1 from importlib.metadata import entry_points\n",
    "# ----> 3 from . import caching\n",
    "#       4 from ._version import __version__  # noqa: F401\n",
    "#       5 from .callbacks import Callback\n",
    "\n",
    "# File ~/software/anaconda3/envs/protgps/lib/python3.8/site-packages/fsspec/caching.py:40\n",
    "#      37 logger = logging.getLogger(\"fsspec\")\n",
    "#      39 Fetcher = Callable[[int, int], bytes]  # Maps (start, end) to bytes\n",
    "# ---> 40 MultiFetcher = Callable[list[[int, int]], bytes]  # Maps [(start, end)] to bytes\n",
    "#      43 class BaseCache:\n",
    "#      44     \"\"\"Pass-though cache: doesn't keep anything, calls every time\n",
    "#      45 \n",
    "#      46     Acts as base class for other cachers\n",
    "#    (...)\n",
    "#      56         How big this file is\n",
    "#      57     \"\"\"\n",
    "\n",
    "# TypeError: 'type' object is not subscriptable"
   ]
  },
  {
   "cell_type": "code",
   "execution_count": 25,
   "metadata": {},
   "outputs": [],
   "source": [
    "import sys\n",
    "import os\n",
    "sys.path.append(PROTGPS_PARENT_DIR) # append the path of protgps\n",
    "from argparse import Namespace\n",
    "import pickle\n",
    "from tqdm import tqdm\n",
    "import pandas as pd\n",
    "import torch\n",
    "from protgps.utils.loading import get_object"
   ]
  },
  {
   "cell_type": "code",
   "execution_count": 6,
   "metadata": {},
   "outputs": [
    {
     "data": {
      "text/plain": [
       "device(type='cuda', index=0)"
      ]
     },
     "execution_count": 6,
     "metadata": {},
     "output_type": "execute_result"
    }
   ],
   "source": [
    "device = torch.device(\"cuda:0\" if torch.cuda.is_available() else \"cpu\")\n",
    "device"
   ]
  },
  {
   "cell_type": "code",
   "execution_count": 26,
   "metadata": {},
   "outputs": [],
   "source": [
    "COMPARTMENT_CLASSES = [\n",
    "    \"nuclear_speckle\",\n",
    "    \"p-body\",\n",
    "    \"pml-bdoy\",\n",
    "    \"post_synaptic_density\",\n",
    "    \"stress_granule\",\n",
    "    \"chromosome\",\n",
    "    \"nucleolus\",\n",
    "    \"nuclear_pore_complex\",\n",
    "    \"cajal_body\",\n",
    "    \"rna_granule\",\n",
    "    \"cell_junction\",\n",
    "    \"transcriptional\"\n",
    "]\n",
    "\n",
    "\n",
    "def load_model(snargs):\n",
    "    \"\"\"\n",
    "    Loads classifier model from args file\n",
    "    \"\"\"\n",
    "    modelpath = snargs.model_path\n",
    "    model = get_object(snargs.lightning_name, \"lightning\")(snargs)\n",
    "    model = model.load_from_checkpoint(\n",
    "        checkpoint_path = modelpath,\n",
    "        strict=not snargs.relax_checkpoint_matching,\n",
    "        **{\"args\": snargs},\n",
    "    )\n",
    "    return model\n",
    "\n",
    "\n",
    "@torch.no_grad()\n",
    "def predict_condensates(model, sequences, batch_size=1, round=True):\n",
    "    scores = []\n",
    "    for i in tqdm(range(0, len(sequences), batch_size), ncols=100):\n",
    "        batch = sequences[ i : (i + batch_size)]\n",
    "        out = model.model({\"x\": batch})    \n",
    "        s = torch.sigmoid(out['logit']).to(\"cpu\")\n",
    "        scores.append(s)\n",
    "    scores = torch.vstack(scores)\n",
    "    if round:\n",
    "        scores = torch.round(scores, decimals=3)\n",
    "    return scores"
   ]
  },
  {
   "cell_type": "code",
   "execution_count": 29,
   "metadata": {},
   "outputs": [
    {
     "ename": "Exception",
     "evalue": "INVALID LIGHTNING NAME: base. AVAILABLE dict_keys([])",
     "output_type": "error",
     "traceback": [
      "\u001b[0;31m---------------------------------------------------------------------------\u001b[0m",
      "\u001b[0;31mException\u001b[0m                                 Traceback (most recent call last)",
      "Cell \u001b[0;32mIn[29], line 5\u001b[0m\n\u001b[1;32m      2\u001b[0m args\u001b[38;5;241m.\u001b[39mmodel_path \u001b[38;5;241m=\u001b[39m os\u001b[38;5;241m.\u001b[39mpath\u001b[38;5;241m.\u001b[39mjoin(PROTGPS_PARENT_DIR, \u001b[38;5;124m'\u001b[39m\u001b[38;5;124mcheckpoints/protgps/32bf44b16a4e770a674896b81dfb3729epoch=26.ckpt\u001b[39m\u001b[38;5;124m'\u001b[39m) \u001b[38;5;66;03m# assumes checkpoint has been extracted in checkpoints/protgps\u001b[39;00m\n\u001b[1;32m      3\u001b[0m args\u001b[38;5;241m.\u001b[39mpretrained_hub_dir \u001b[38;5;241m=\u001b[39m os\u001b[38;5;241m.\u001b[39mpath\u001b[38;5;241m.\u001b[39mjoin(PROTGPS_PARENT_DIR, \u001b[38;5;124m\"\u001b[39m\u001b[38;5;124mcheckpoints/esm2/facebookresearch_esm_main\u001b[39m\u001b[38;5;124m\"\u001b[39m) \u001b[38;5;66;03m# should point to folder with ESM2 facebookresearch_esm_main directory\u001b[39;00m\n\u001b[0;32m----> 5\u001b[0m model \u001b[38;5;241m=\u001b[39m \u001b[43mload_model\u001b[49m\u001b[43m(\u001b[49m\u001b[43margs\u001b[49m\u001b[43m)\u001b[49m\n\u001b[1;32m      6\u001b[0m model\u001b[38;5;241m.\u001b[39meval()\n\u001b[1;32m      7\u001b[0m model \u001b[38;5;241m=\u001b[39m model\u001b[38;5;241m.\u001b[39mto(device)\n",
      "Cell \u001b[0;32mIn[26], line 22\u001b[0m, in \u001b[0;36mload_model\u001b[0;34m(snargs)\u001b[0m\n\u001b[1;32m     18\u001b[0m \u001b[38;5;250m\u001b[39m\u001b[38;5;124;03m\"\"\"\u001b[39;00m\n\u001b[1;32m     19\u001b[0m \u001b[38;5;124;03mLoads classifier model from args file\u001b[39;00m\n\u001b[1;32m     20\u001b[0m \u001b[38;5;124;03m\"\"\"\u001b[39;00m\n\u001b[1;32m     21\u001b[0m modelpath \u001b[38;5;241m=\u001b[39m snargs\u001b[38;5;241m.\u001b[39mmodel_path\n\u001b[0;32m---> 22\u001b[0m model \u001b[38;5;241m=\u001b[39m \u001b[43mget_object\u001b[49m\u001b[43m(\u001b[49m\u001b[43msnargs\u001b[49m\u001b[38;5;241;43m.\u001b[39;49m\u001b[43mlightning_name\u001b[49m\u001b[43m,\u001b[49m\u001b[43m \u001b[49m\u001b[38;5;124;43m\"\u001b[39;49m\u001b[38;5;124;43mlightning\u001b[39;49m\u001b[38;5;124;43m\"\u001b[39;49m\u001b[43m)\u001b[49m(snargs)\n\u001b[1;32m     23\u001b[0m model \u001b[38;5;241m=\u001b[39m model\u001b[38;5;241m.\u001b[39mload_from_checkpoint(\n\u001b[1;32m     24\u001b[0m     checkpoint_path \u001b[38;5;241m=\u001b[39m modelpath,\n\u001b[1;32m     25\u001b[0m     strict\u001b[38;5;241m=\u001b[39m\u001b[38;5;129;01mnot\u001b[39;00m snargs\u001b[38;5;241m.\u001b[39mrelax_checkpoint_matching,\n\u001b[1;32m     26\u001b[0m     \u001b[38;5;241m*\u001b[39m\u001b[38;5;241m*\u001b[39m{\u001b[38;5;124m\"\u001b[39m\u001b[38;5;124margs\u001b[39m\u001b[38;5;124m\"\u001b[39m: snargs},\n\u001b[1;32m     27\u001b[0m )\n\u001b[1;32m     28\u001b[0m \u001b[38;5;28;01mreturn\u001b[39;00m model\n",
      "File \u001b[0;32m~/igvf/varchamp/protgps_varchamp/protgps/utils/registry.py:21\u001b[0m, in \u001b[0;36mget_object\u001b[0;34m(object_name, object_type)\u001b[0m\n\u001b[1;32m     19\u001b[0m \u001b[38;5;28;01mdef\u001b[39;00m\u001b[38;5;250m \u001b[39m\u001b[38;5;21mget_object\u001b[39m(object_name, object_type):\n\u001b[1;32m     20\u001b[0m     \u001b[38;5;28;01mif\u001b[39;00m object_name \u001b[38;5;129;01mnot\u001b[39;00m \u001b[38;5;129;01min\u001b[39;00m REGISTRIES[\u001b[38;5;124m\"\u001b[39m\u001b[38;5;132;01m{}\u001b[39;00m\u001b[38;5;124m_REGISTRY\u001b[39m\u001b[38;5;124m\"\u001b[39m\u001b[38;5;241m.\u001b[39mformat(object_type\u001b[38;5;241m.\u001b[39mupper())]:\n\u001b[0;32m---> 21\u001b[0m         \u001b[38;5;28;01mraise\u001b[39;00m \u001b[38;5;167;01mException\u001b[39;00m(\n\u001b[1;32m     22\u001b[0m             \u001b[38;5;124m\"\u001b[39m\u001b[38;5;124mINVALID \u001b[39m\u001b[38;5;132;01m{}\u001b[39;00m\u001b[38;5;124m NAME: \u001b[39m\u001b[38;5;132;01m{}\u001b[39;00m\u001b[38;5;124m. AVAILABLE \u001b[39m\u001b[38;5;132;01m{}\u001b[39;00m\u001b[38;5;124m\"\u001b[39m\u001b[38;5;241m.\u001b[39mformat(\n\u001b[1;32m     23\u001b[0m                 object_type\u001b[38;5;241m.\u001b[39mupper(),\n\u001b[1;32m     24\u001b[0m                 object_name,\n\u001b[1;32m     25\u001b[0m                 REGISTRIES[\u001b[38;5;124m\"\u001b[39m\u001b[38;5;132;01m{}\u001b[39;00m\u001b[38;5;124m_REGISTRY\u001b[39m\u001b[38;5;124m\"\u001b[39m\u001b[38;5;241m.\u001b[39mformat(object_type\u001b[38;5;241m.\u001b[39mupper())]\u001b[38;5;241m.\u001b[39mkeys(),\n\u001b[1;32m     26\u001b[0m             )\n\u001b[1;32m     27\u001b[0m         )\n\u001b[1;32m     28\u001b[0m     \u001b[38;5;28;01mreturn\u001b[39;00m REGISTRIES[\u001b[38;5;124m\"\u001b[39m\u001b[38;5;132;01m{}\u001b[39;00m\u001b[38;5;124m_REGISTRY\u001b[39m\u001b[38;5;124m\"\u001b[39m\u001b[38;5;241m.\u001b[39mformat(object_type\u001b[38;5;241m.\u001b[39mupper())][object_name]\n",
      "\u001b[0;31mException\u001b[0m: INVALID LIGHTNING NAME: base. AVAILABLE dict_keys([])"
     ]
    }
   ],
   "source": [
    "args = Namespace(**pickle.load(open(os.path.join(PROTGPS_PARENT_DIR, 'checkpoints/protgps/32bf44b16a4e770a674896b81dfb3729.args'),'rb'))) # assumes args file has been extracted in checkpoints/protgps\n",
    "args.model_path = os.path.join(PROTGPS_PARENT_DIR, 'checkpoints/protgps/32bf44b16a4e770a674896b81dfb3729epoch=26.ckpt') # assumes checkpoint has been extracted in checkpoints/protgps\n",
    "args.pretrained_hub_dir = os.path.join(PROTGPS_PARENT_DIR, \"checkpoints/esm2/facebookresearch_esm_main\") # should point to folder with ESM2 facebookresearch_esm_main directory\n",
    "\n",
    "model = load_model(args)\n",
    "model.eval()\n",
    "model = model.to(device)"
   ]
  },
  {
   "cell_type": "code",
   "execution_count": 28,
   "metadata": {},
   "outputs": [
    {
     "ename": "Exception",
     "evalue": "INVALID LIGHTNING NAME: base. AVAILABLE dict_keys([])",
     "output_type": "error",
     "traceback": [
      "\u001b[0;31m---------------------------------------------------------------------------\u001b[0m",
      "\u001b[0;31mException\u001b[0m                                 Traceback (most recent call last)",
      "Cell \u001b[0;32mIn[28], line 6\u001b[0m\n\u001b[1;32m      3\u001b[0m args\u001b[38;5;241m.\u001b[39mpretrained_hub_dir \u001b[38;5;241m=\u001b[39m os\u001b[38;5;241m.\u001b[39mpath\u001b[38;5;241m.\u001b[39mjoin(PROTGPS_PARENT_DIR, \u001b[38;5;124m\"\u001b[39m\u001b[38;5;124mcheckpoints/esm2/facebookresearch_esm_main\u001b[39m\u001b[38;5;124m\"\u001b[39m) \u001b[38;5;66;03m# should point to folder with ESM2 facebookresearch_esm_main directory\u001b[39;00m\n\u001b[1;32m      5\u001b[0m \u001b[38;5;66;03m# print(args.lightning_name)\u001b[39;00m\n\u001b[0;32m----> 6\u001b[0m model \u001b[38;5;241m=\u001b[39m \u001b[43mload_model\u001b[49m\u001b[43m(\u001b[49m\u001b[43margs\u001b[49m\u001b[43m)\u001b[49m\n\u001b[1;32m      7\u001b[0m model\u001b[38;5;241m.\u001b[39meval()\n\u001b[1;32m      8\u001b[0m model \u001b[38;5;241m=\u001b[39m model\u001b[38;5;241m.\u001b[39mto(device)\n",
      "Cell \u001b[0;32mIn[26], line 22\u001b[0m, in \u001b[0;36mload_model\u001b[0;34m(snargs)\u001b[0m\n\u001b[1;32m     18\u001b[0m \u001b[38;5;250m\u001b[39m\u001b[38;5;124;03m\"\"\"\u001b[39;00m\n\u001b[1;32m     19\u001b[0m \u001b[38;5;124;03mLoads classifier model from args file\u001b[39;00m\n\u001b[1;32m     20\u001b[0m \u001b[38;5;124;03m\"\"\"\u001b[39;00m\n\u001b[1;32m     21\u001b[0m modelpath \u001b[38;5;241m=\u001b[39m snargs\u001b[38;5;241m.\u001b[39mmodel_path\n\u001b[0;32m---> 22\u001b[0m model \u001b[38;5;241m=\u001b[39m \u001b[43mget_object\u001b[49m\u001b[43m(\u001b[49m\u001b[43msnargs\u001b[49m\u001b[38;5;241;43m.\u001b[39;49m\u001b[43mlightning_name\u001b[49m\u001b[43m,\u001b[49m\u001b[43m \u001b[49m\u001b[38;5;124;43m\"\u001b[39;49m\u001b[38;5;124;43mlightning\u001b[39;49m\u001b[38;5;124;43m\"\u001b[39;49m\u001b[43m)\u001b[49m(snargs)\n\u001b[1;32m     23\u001b[0m model \u001b[38;5;241m=\u001b[39m model\u001b[38;5;241m.\u001b[39mload_from_checkpoint(\n\u001b[1;32m     24\u001b[0m     checkpoint_path \u001b[38;5;241m=\u001b[39m modelpath,\n\u001b[1;32m     25\u001b[0m     strict\u001b[38;5;241m=\u001b[39m\u001b[38;5;129;01mnot\u001b[39;00m snargs\u001b[38;5;241m.\u001b[39mrelax_checkpoint_matching,\n\u001b[1;32m     26\u001b[0m     \u001b[38;5;241m*\u001b[39m\u001b[38;5;241m*\u001b[39m{\u001b[38;5;124m\"\u001b[39m\u001b[38;5;124margs\u001b[39m\u001b[38;5;124m\"\u001b[39m: snargs},\n\u001b[1;32m     27\u001b[0m )\n\u001b[1;32m     28\u001b[0m \u001b[38;5;28;01mreturn\u001b[39;00m model\n",
      "File \u001b[0;32m~/igvf/varchamp/protgps_varchamp/protgps/utils/registry.py:21\u001b[0m, in \u001b[0;36mget_object\u001b[0;34m(object_name, object_type)\u001b[0m\n\u001b[1;32m     19\u001b[0m \u001b[38;5;28;01mdef\u001b[39;00m\u001b[38;5;250m \u001b[39m\u001b[38;5;21mget_object\u001b[39m(object_name, object_type):\n\u001b[1;32m     20\u001b[0m     \u001b[38;5;28;01mif\u001b[39;00m object_name \u001b[38;5;129;01mnot\u001b[39;00m \u001b[38;5;129;01min\u001b[39;00m REGISTRIES[\u001b[38;5;124m\"\u001b[39m\u001b[38;5;132;01m{}\u001b[39;00m\u001b[38;5;124m_REGISTRY\u001b[39m\u001b[38;5;124m\"\u001b[39m\u001b[38;5;241m.\u001b[39mformat(object_type\u001b[38;5;241m.\u001b[39mupper())]:\n\u001b[0;32m---> 21\u001b[0m         \u001b[38;5;28;01mraise\u001b[39;00m \u001b[38;5;167;01mException\u001b[39;00m(\n\u001b[1;32m     22\u001b[0m             \u001b[38;5;124m\"\u001b[39m\u001b[38;5;124mINVALID \u001b[39m\u001b[38;5;132;01m{}\u001b[39;00m\u001b[38;5;124m NAME: \u001b[39m\u001b[38;5;132;01m{}\u001b[39;00m\u001b[38;5;124m. AVAILABLE \u001b[39m\u001b[38;5;132;01m{}\u001b[39;00m\u001b[38;5;124m\"\u001b[39m\u001b[38;5;241m.\u001b[39mformat(\n\u001b[1;32m     23\u001b[0m                 object_type\u001b[38;5;241m.\u001b[39mupper(),\n\u001b[1;32m     24\u001b[0m                 object_name,\n\u001b[1;32m     25\u001b[0m                 REGISTRIES[\u001b[38;5;124m\"\u001b[39m\u001b[38;5;132;01m{}\u001b[39;00m\u001b[38;5;124m_REGISTRY\u001b[39m\u001b[38;5;124m\"\u001b[39m\u001b[38;5;241m.\u001b[39mformat(object_type\u001b[38;5;241m.\u001b[39mupper())]\u001b[38;5;241m.\u001b[39mkeys(),\n\u001b[1;32m     26\u001b[0m             )\n\u001b[1;32m     27\u001b[0m         )\n\u001b[1;32m     28\u001b[0m     \u001b[38;5;28;01mreturn\u001b[39;00m REGISTRIES[\u001b[38;5;124m\"\u001b[39m\u001b[38;5;132;01m{}\u001b[39;00m\u001b[38;5;124m_REGISTRY\u001b[39m\u001b[38;5;124m\"\u001b[39m\u001b[38;5;241m.\u001b[39mformat(object_type\u001b[38;5;241m.\u001b[39mupper())][object_name]\n",
      "\u001b[0;31mException\u001b[0m: INVALID LIGHTNING NAME: base. AVAILABLE dict_keys([])"
     ]
    }
   ],
   "source": [
    "args = Namespace(**pickle.load(open(os.path.join(PROTGPS_PARENT_DIR, 'checkpoints/protgps/7c4853cd22080b250ef89af2a1b25102.args'),'rb'))) # assumes args file has been extracted in checkpoints/protgps\n",
    "args.model_path = os.path.join(PROTGPS_PARENT_DIR, 'checkpoints/protgps/7c4853cd22080b250ef89af2a1b25102epoch=3.ckpt') # assumes checkpoint has been extracted in checkpoints/protgps\n",
    "args.pretrained_hub_dir = os.path.join(PROTGPS_PARENT_DIR, \"checkpoints/esm2/facebookresearch_esm_main\") # should point to folder with ESM2 facebookresearch_esm_main directory\n",
    "\n",
    "# print(args.lightning_name)\n",
    "model = load_model(args)\n",
    "model.eval()\n",
    "model = model.to(device)"
   ]
  },
  {
   "cell_type": "code",
   "execution_count": 3,
   "metadata": {},
   "outputs": [],
   "source": [
    "sequences = [\n",
    "    # UniProt O15116\n",
    "    \"MNYMPGTASLIEDIDKKHLVLLRDGRTLIGFLRSIDQFANLVLHQTVERIHVGKKYGDIPRGIFVVRGENVVLLGEIDLEKESDTPLQQVSIEEILEEQRVEQQTKLEAEKLKVQALKDRGLSIPRADTLDEY\", \n",
    "    # Uniprot P38432\n",
    "    \"MAASETVRLRLQFDYPPPATPHCTAFWLLVDLNRCRVVTDLISLIRQRFGFSSGAFLGLYLEGGLLPPAESARLVRDNDCLRVKLEERGVAENSVVISNGDINLSLRKAKKRAFQLEEGEETEPDCKYSKKHWKSRENNNNNEKVLDLEPKAVTDQTVSKKNKRKNKATCGTVGDDNEEAKRKSPKKKEKCEYKKKAKNPKSPKVQAVKDWANQRCSSPKGSARNSLVKAKRKGSVSVCSKESPSSSSESESCDESISDGPSKVTLEARNSSEKLPTELSKEEPSTKNTTADKLAIKLGFSLTPSKGKTSGTTSSSSDSSAESDDQCLMSSSTPECAAGFLKTVGLFAGRGRPGPGLSSQTAGAAGWRRSGSNGGGQAPGASPSVSLPASLGRGWGREENLFSWKGAKGRGMRGRGRGRGHPVSCVVNRSTDNQRQQQLNDVVKNSSTIIQNPVETPKKDYSLLPLLAAAPQVGEKIAFKLLELTSSYSPDVSDYKEGRILSHNPETQQVDIEILSSLPALREPGKFDLVYHNENGAEVVEYAVTQESKITVFWKELIDPRLIIESPSNTSSTEPA\" \n",
    "]"
   ]
  },
  {
   "cell_type": "code",
   "execution_count": null,
   "metadata": {},
   "outputs": [],
   "source": [
    "scores = predict_condensates(model, sequences, batch_size=1)"
   ]
  },
  {
   "cell_type": "code",
   "execution_count": null,
   "metadata": {},
   "outputs": [],
   "source": [
    "data = {\"sequences\": sequences}\n",
    "for j,condensate in enumerate(COMPARTMENT_CLASSES):\n",
    "    data[f\"{condensate.upper()}_Score\"] = scores[:, j].tolist()"
   ]
  },
  {
   "cell_type": "code",
   "execution_count": null,
   "metadata": {},
   "outputs": [],
   "source": [
    "pd.DataFrame(data)"
   ]
  }
 ],
 "metadata": {
  "kernelspec": {
   "display_name": "protgps",
   "language": "python",
   "name": "python3"
  },
  "language_info": {
   "codemirror_mode": {
    "name": "ipython",
    "version": 3
   },
   "file_extension": ".py",
   "mimetype": "text/x-python",
   "name": "python",
   "nbconvert_exporter": "python",
   "pygments_lexer": "ipython3",
   "version": "3.8.15"
  }
 },
 "nbformat": 4,
 "nbformat_minor": 4
}
