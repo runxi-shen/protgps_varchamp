{
 "cells": [
  {
   "cell_type": "markdown",
   "metadata": {},
   "source": [
    "# Download Protein Language Model Weights"
   ]
  },
  {
   "cell_type": "markdown",
   "metadata": {},
   "source": [
    "## ESM2"
   ]
  },
  {
   "cell_type": "code",
   "execution_count": 1,
   "metadata": {},
   "outputs": [
    {
     "name": "stderr",
     "output_type": "stream",
     "text": [
      "Downloading: \"https://github.com/facebookresearch/esm/zipball/main\" to ../checkpoints/esm2/main.zip\n",
      "Downloading: \"https://dl.fbaipublicfiles.com/fair-esm/models/esm2_t6_8M_UR50D.pt\" to ../checkpoints/esm2/checkpoints/esm2_t6_8M_UR50D.pt\n",
      "Downloading: \"https://dl.fbaipublicfiles.com/fair-esm/regression/esm2_t6_8M_UR50D-contact-regression.pt\" to ../checkpoints/esm2/checkpoints/esm2_t6_8M_UR50D-contact-regression.pt\n"
     ]
    }
   ],
   "source": [
    "import torch\n",
    "torch.hub.set_dir(\"../checkpoints/esm2\")\n",
    "model, alphabet = torch.hub.load(\"facebookresearch/esm:main\", \"esm2_t6_8M_UR50D\")"
   ]
  },
  {
   "cell_type": "markdown",
   "metadata": {},
   "source": [
    "## DR_BERT"
   ]
  },
  {
   "cell_type": "markdown",
   "metadata": {},
   "source": [
    "Download drbert from original repo @https://github.com/maslov-group/DR-BERT?tab=readme-ov-file\n",
    "\n",
    "With the the pretrained model weights found @https://drive.google.com/drive/folders/1hMAnXaPrK9HPzcC0RZ5d7zsw3IXN910f to ../checkpoints/\n",
    "\n",
    "__unzip DR-BERT.zip__\n",
    "\n",
    "Archive:  DR-BERT.zip\n",
    "   creating: checkpoint-final/\n",
    "  inflating: checkpoint-final/scaler.pt  \n",
    "  inflating: checkpoint-final/optimizer.pt  \n",
    "  inflating: checkpoint-final/trainer_state.json  \n",
    "  inflating: checkpoint-final/config.json  \n",
    "  inflating: checkpoint-final/pytorch_model.bin  \n",
    "  inflating: checkpoint-final/training_args.bin  \n",
    "  inflating: checkpoint-final/vocab.json  \n",
    "  inflating: checkpoint-final/vocab.txt  \n",
    "  inflating: checkpoint-final/rng_state.pth  \n",
    "  inflating: checkpoint-final/special_tokens_map.json  \n",
    "  inflating: checkpoint-final/scheduler.pt  \n",
    " extracting: checkpoint-final/merges.txt  \n",
    "\n",
    " __mv checkpoint-final/ drbert__"
   ]
  },
  {
   "cell_type": "code",
   "execution_count": 5,
   "metadata": {},
   "outputs": [
    {
     "name": "stderr",
     "output_type": "stream",
     "text": [
      "/home/shenrunx/software/anaconda3/envs/protgps/lib/python3.8/site-packages/torch/_utils.py:776: UserWarning: TypedStorage is deprecated. It will be removed in the future and UntypedStorage will be the only storage class. This should only matter to you if you are using storages directly.  To access UntypedStorage directly, use tensor.untyped_storage() instead of tensor.storage()\n",
      "  return self.fget.__get__(instance, owner)()\n"
     ]
    }
   ],
   "source": [
    "from transformers import AutoModel, AutoTokenizer, AutoModelForTokenClassification\n",
    "\n",
    "checkpoint = \"../checkpoints/drbert\"\n",
    "tokenizer = AutoTokenizer.from_pretrained(checkpoint)\n",
    "model = AutoModelForTokenClassification.from_pretrained(checkpoint)"
   ]
  },
  {
   "cell_type": "markdown",
   "metadata": {},
   "source": []
  }
 ],
 "metadata": {
  "kernelspec": {
   "display_name": "protgps",
   "language": "python",
   "name": "python3"
  },
  "language_info": {
   "codemirror_mode": {
    "name": "ipython",
    "version": 3
   },
   "file_extension": ".py",
   "mimetype": "text/x-python",
   "name": "python",
   "nbconvert_exporter": "python",
   "pygments_lexer": "ipython3",
   "version": "3.8.15"
  }
 },
 "nbformat": 4,
 "nbformat_minor": 2
}
